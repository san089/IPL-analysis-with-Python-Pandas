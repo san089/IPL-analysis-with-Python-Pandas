{
 "cells": [
  {
   "cell_type": "markdown",
   "metadata": {
    "_uuid": "579ffd1dfec5644708573d045936d88acc71132b"
   },
   "source": [
    "# **IPL Data Analysis Using Python Pandas**"
   ]
  },
  {
   "cell_type": "markdown",
   "metadata": {
    "_uuid": "ff9684e79509e8137b5cc9a76364971cf3a1a9c0"
   },
   "source": [
    "**Little detail about IPL (Indian Premier League).\n",
    "The Indian Premier League (IPL), officially Vivo Indian Premier League for sponsorship reasons, is a professional Twenty20 cricket league in India contested during April and May of every year by teams representing Indian cities and some states. The league was founded by the Board of Control for Cricket in India (BCCI) in 2008, and is regarded as the brainchild of Lalit Modi, the founder and former commissioner of the league. IPL has an exclusive window in ICC Future Tours Programme.\n",
    "The IPL is the most-attended cricket league in the world and in 2014 ranked sixth by average attendance among all sports leagues. In 2010, the IPL became the first sporting event in the world to be broadcast live on YouTube. The brand value of IPL in 2018 was US Dollar 6.3 billion, according to Duff & Phelps. According to BCCI, the 2015 IPL season contributed ₹11.5 billion (US Dollar 182 million) to the GDP of the Indian economy.\n",
    "There have been eleven seasons of the IPL tournament. The current IPL title holders are the Chennai Super Kings, who won the 2018 season. The most successful franchises in the tournament are the Chennai Super Kings and Mumbai Indians with 3 tournament wins each.**"
   ]
  },
  {
   "cell_type": "code",
   "execution_count": 1,
   "metadata": {
    "_cell_guid": "b1076dfc-b9ad-4769-8c92-a6c4dae69d19",
    "_uuid": "8f2839f25d086af736a60e9eeb907d3b93b6e0e5"
   },
   "outputs": [],
   "source": [
    "# This Python 3 environment comes with many helpful analytics libraries installed\n",
    "# It is defined by the kaggle/python docker image: https://github.com/kaggle/docker-python\n",
    "# For example, here's several helpful packages to load in \n",
    "\n",
    "import numpy as np # linear algebra\n",
    "import pandas as pd # data processing, CSV file I/O (e.g. pd.read_csv)\n",
    "\n",
    "# Input data files are available in the \"../input/\" directory.\n",
    "# For example, running this (by clicking run or pressing Shift+Enter) will list the files in the input directory\n",
    "\n",
    "\n",
    "# Any results you write to the current directory are saved as output."
   ]
  },
  {
   "cell_type": "code",
   "execution_count": 2,
   "metadata": {
    "_cell_guid": "79c7e3d0-c299-4dcb-8224-4455121ee9b0",
    "_uuid": "d629ff2d2480ee46fbb7e2d37f6b5fab8052498a"
   },
   "outputs": [],
   "source": [
    "df = pd.read_csv('matches.csv')"
   ]
  },
  {
   "cell_type": "code",
   "execution_count": 3,
   "metadata": {
    "_uuid": "3e267e94253ec0571a4e9adcb6f8021a4b32c441"
   },
   "outputs": [
    {
     "data": {
      "text/html": [
       "<div>\n",
       "<style scoped>\n",
       "    .dataframe tbody tr th:only-of-type {\n",
       "        vertical-align: middle;\n",
       "    }\n",
       "\n",
       "    .dataframe tbody tr th {\n",
       "        vertical-align: top;\n",
       "    }\n",
       "\n",
       "    .dataframe thead th {\n",
       "        text-align: right;\n",
       "    }\n",
       "</style>\n",
       "<table border=\"1\" class=\"dataframe\">\n",
       "  <thead>\n",
       "    <tr style=\"text-align: right;\">\n",
       "      <th></th>\n",
       "      <th>id</th>\n",
       "      <th>season</th>\n",
       "      <th>city</th>\n",
       "      <th>date</th>\n",
       "      <th>team1</th>\n",
       "      <th>team2</th>\n",
       "      <th>toss_winner</th>\n",
       "      <th>toss_decision</th>\n",
       "      <th>result</th>\n",
       "      <th>dl_applied</th>\n",
       "      <th>winner</th>\n",
       "      <th>win_by_runs</th>\n",
       "      <th>win_by_wickets</th>\n",
       "      <th>player_of_match</th>\n",
       "      <th>venue</th>\n",
       "      <th>umpire1</th>\n",
       "      <th>umpire2</th>\n",
       "      <th>umpire3</th>\n",
       "    </tr>\n",
       "  </thead>\n",
       "  <tbody>\n",
       "    <tr>\n",
       "      <th>0</th>\n",
       "      <td>1</td>\n",
       "      <td>2017</td>\n",
       "      <td>Hyderabad</td>\n",
       "      <td>2017-04-05</td>\n",
       "      <td>Sunrisers Hyderabad</td>\n",
       "      <td>Royal Challengers Bangalore</td>\n",
       "      <td>Royal Challengers Bangalore</td>\n",
       "      <td>field</td>\n",
       "      <td>normal</td>\n",
       "      <td>0</td>\n",
       "      <td>Sunrisers Hyderabad</td>\n",
       "      <td>35</td>\n",
       "      <td>0</td>\n",
       "      <td>Yuvraj Singh</td>\n",
       "      <td>Rajiv Gandhi International Stadium, Uppal</td>\n",
       "      <td>AY Dandekar</td>\n",
       "      <td>NJ Llong</td>\n",
       "      <td>NaN</td>\n",
       "    </tr>\n",
       "    <tr>\n",
       "      <th>1</th>\n",
       "      <td>2</td>\n",
       "      <td>2017</td>\n",
       "      <td>Pune</td>\n",
       "      <td>2017-04-06</td>\n",
       "      <td>Mumbai Indians</td>\n",
       "      <td>Rising Pune Supergiant</td>\n",
       "      <td>Rising Pune Supergiant</td>\n",
       "      <td>field</td>\n",
       "      <td>normal</td>\n",
       "      <td>0</td>\n",
       "      <td>Rising Pune Supergiant</td>\n",
       "      <td>0</td>\n",
       "      <td>7</td>\n",
       "      <td>SPD Smith</td>\n",
       "      <td>Maharashtra Cricket Association Stadium</td>\n",
       "      <td>A Nand Kishore</td>\n",
       "      <td>S Ravi</td>\n",
       "      <td>NaN</td>\n",
       "    </tr>\n",
       "    <tr>\n",
       "      <th>2</th>\n",
       "      <td>3</td>\n",
       "      <td>2017</td>\n",
       "      <td>Rajkot</td>\n",
       "      <td>2017-04-07</td>\n",
       "      <td>Gujarat Lions</td>\n",
       "      <td>Kolkata Knight Riders</td>\n",
       "      <td>Kolkata Knight Riders</td>\n",
       "      <td>field</td>\n",
       "      <td>normal</td>\n",
       "      <td>0</td>\n",
       "      <td>Kolkata Knight Riders</td>\n",
       "      <td>0</td>\n",
       "      <td>10</td>\n",
       "      <td>CA Lynn</td>\n",
       "      <td>Saurashtra Cricket Association Stadium</td>\n",
       "      <td>Nitin Menon</td>\n",
       "      <td>CK Nandan</td>\n",
       "      <td>NaN</td>\n",
       "    </tr>\n",
       "  </tbody>\n",
       "</table>\n",
       "</div>"
      ],
      "text/plain": [
       "   id  season       city        date                team1  \\\n",
       "0   1    2017  Hyderabad  2017-04-05  Sunrisers Hyderabad   \n",
       "1   2    2017       Pune  2017-04-06       Mumbai Indians   \n",
       "2   3    2017     Rajkot  2017-04-07        Gujarat Lions   \n",
       "\n",
       "                         team2                  toss_winner toss_decision  \\\n",
       "0  Royal Challengers Bangalore  Royal Challengers Bangalore         field   \n",
       "1       Rising Pune Supergiant       Rising Pune Supergiant         field   \n",
       "2        Kolkata Knight Riders        Kolkata Knight Riders         field   \n",
       "\n",
       "   result  dl_applied                  winner  win_by_runs  win_by_wickets  \\\n",
       "0  normal           0     Sunrisers Hyderabad           35               0   \n",
       "1  normal           0  Rising Pune Supergiant            0               7   \n",
       "2  normal           0   Kolkata Knight Riders            0              10   \n",
       "\n",
       "  player_of_match                                      venue         umpire1  \\\n",
       "0    Yuvraj Singh  Rajiv Gandhi International Stadium, Uppal     AY Dandekar   \n",
       "1       SPD Smith    Maharashtra Cricket Association Stadium  A Nand Kishore   \n",
       "2         CA Lynn     Saurashtra Cricket Association Stadium     Nitin Menon   \n",
       "\n",
       "     umpire2 umpire3  \n",
       "0   NJ Llong     NaN  \n",
       "1     S Ravi     NaN  \n",
       "2  CK Nandan     NaN  "
      ]
     },
     "execution_count": 3,
     "metadata": {},
     "output_type": "execute_result"
    }
   ],
   "source": [
    "#Selecting top 3 rows from the dataframe\n",
    "df.head(3)"
   ]
  },
  {
   "cell_type": "markdown",
   "metadata": {
    "_uuid": "d02c9a90956c1a058ff21cc8ec74c8a9af704caa"
   },
   "source": [
    "**Let's check then number of observations in the data.**"
   ]
  },
  {
   "cell_type": "code",
   "execution_count": 4,
   "metadata": {
    "_uuid": "9ab384c5c082386805d70ac1df06545d7a62fc16"
   },
   "outputs": [
    {
     "data": {
      "text/plain": [
       "696"
      ]
     },
     "execution_count": 4,
     "metadata": {},
     "output_type": "execute_result"
    }
   ],
   "source": [
    "# Fetching number of rows in the dataframe\n",
    "df.shape[0]"
   ]
  },
  {
   "cell_type": "markdown",
   "metadata": {
    "_uuid": "f67af4ca28276f9814f4294531d18dbc70e97ad2"
   },
   "source": [
    "**Let's check the number of matches each team won till now in the IPL history.**"
   ]
  },
  {
   "cell_type": "code",
   "execution_count": 5,
   "metadata": {
    "_uuid": "5ba183aa85e0bd25c1bcd3071d7aec9bc97f1263"
   },
   "outputs": [
    {
     "data": {
      "text/plain": [
       "Mumbai Indians                 98\n",
       "Chennai Super Kings            90\n",
       "Kolkata Knight Riders          86\n",
       "Royal Challengers Bangalore    79\n",
       "Kings XI Punjab                76\n",
       "Rajasthan Royals               70\n",
       "Delhi Daredevils               67\n",
       "Sunrisers Hyderabad            52\n",
       "Deccan Chargers                29\n",
       "Gujarat Lions                  13\n",
       "Pune Warriors                  12\n",
       "Rising Pune Supergiant         10\n",
       "Kochi Tuskers Kerala            6\n",
       "Rising Pune Supergiants         5\n",
       "Name: winner, dtype: int64"
      ]
     },
     "execution_count": 5,
     "metadata": {},
     "output_type": "execute_result"
    }
   ],
   "source": [
    "df['winner'].sort_values().value_counts()"
   ]
  },
  {
   "cell_type": "markdown",
   "metadata": {
    "_uuid": "016629f5df75472fa0c550a42844cc65398a0fae"
   },
   "source": [
    "**Did you notice that we have \"Rising Pune Supergiant\" 2 times in the above list. One with the name as \"Rising Pune Supergiant\" and other as \"Rising Pune Supergiants\". Let's cleanse the data by modifying the \"Rising Pune Supergiants\" to \"Rising Pune Supergiant\". Also, it can be present in other columns as well like 'team1', 'team2' , 'toss_winner'. Lets replace in all the columns at once. Though, it can be done in many ways, we will use the apply() function to do so.**"
   ]
  },
  {
   "cell_type": "code",
   "execution_count": 6,
   "metadata": {
    "_uuid": "af26ba063428c82067db51484653375564b539e6"
   },
   "outputs": [],
   "source": [
    "df.loc[df['winner'] == 'Rising Pune Supergiants', 'winner'] = 'Rising Pune Supergiant'\n",
    "#But we have to replace in other series as well like 'team1', 'team2',etc.\n",
    "df[['team1','team2','toss_winner','winner']] = df[['team1','team2','toss_winner','winner']].apply(lambda val : val.str.replace('Rising Pune Supergiants','Rising Pune Supergiant') )"
   ]
  },
  {
   "cell_type": "markdown",
   "metadata": {
    "_uuid": "992efef0fae9268a768023b196e62c693bbc405b"
   },
   "source": [
    "**Let's now find the numbers of wins for each team.**"
   ]
  },
  {
   "cell_type": "code",
   "execution_count": 7,
   "metadata": {
    "_uuid": "7d7c9e5846b20970df840654547b70ed027e7de1"
   },
   "outputs": [
    {
     "data": {
      "text/plain": [
       "Mumbai Indians                 98\n",
       "Chennai Super Kings            90\n",
       "Kolkata Knight Riders          86\n",
       "Royal Challengers Bangalore    79\n",
       "Kings XI Punjab                76\n",
       "Rajasthan Royals               70\n",
       "Delhi Daredevils               67\n",
       "Sunrisers Hyderabad            52\n",
       "Deccan Chargers                29\n",
       "Rising Pune Supergiant         15\n",
       "Gujarat Lions                  13\n",
       "Pune Warriors                  12\n",
       "Kochi Tuskers Kerala            6\n",
       "Name: winner, dtype: int64"
      ]
     },
     "execution_count": 7,
     "metadata": {},
     "output_type": "execute_result"
    }
   ],
   "source": [
    "df['winner'].sort_values().value_counts()"
   ]
  },
  {
   "cell_type": "markdown",
   "metadata": {
    "_uuid": "dec0e501a6ba1e2c5849cacf733b7811c822abc8"
   },
   "source": [
    "**Another way of doing the same as above, because we have id as primary key (meaning we have different id for each match).**"
   ]
  },
  {
   "cell_type": "code",
   "execution_count": 8,
   "metadata": {
    "_uuid": "adb6fed19351c68afb5e653dd70cc8ab7752a3ab"
   },
   "outputs": [
    {
     "data": {
      "text/plain": [
       "winner\n",
       "Mumbai Indians                 98\n",
       "Chennai Super Kings            90\n",
       "Kolkata Knight Riders          86\n",
       "Royal Challengers Bangalore    79\n",
       "Kings XI Punjab                76\n",
       "Rajasthan Royals               70\n",
       "Delhi Daredevils               67\n",
       "Sunrisers Hyderabad            52\n",
       "Deccan Chargers                29\n",
       "Rising Pune Supergiant         15\n",
       "Gujarat Lions                  13\n",
       "Pune Warriors                  12\n",
       "Kochi Tuskers Kerala            6\n",
       "Name: id, dtype: int64"
      ]
     },
     "execution_count": 8,
     "metadata": {},
     "output_type": "execute_result"
    }
   ],
   "source": [
    "# Grouping the number of matched won by teams and sorting it based on the count of the matches.\n",
    "winners_df = df.groupby('winner', sort = False).count().id.sort_values(ascending = False)\n",
    "winners_df"
   ]
  },
  {
   "cell_type": "markdown",
   "metadata": {
    "_uuid": "5032839578a5e106b4fd465921ee22d75aae79d4"
   },
   "source": [
    "**Let's plot a simple bar graph for the above data.**"
   ]
  },
  {
   "cell_type": "code",
   "execution_count": 9,
   "metadata": {
    "_uuid": "38a336d5b377e587da2fa801c35639c7ee06eedf"
   },
   "outputs": [
    {
     "data": {
      "text/plain": [
       "<matplotlib.axes._subplots.AxesSubplot at 0x15c3269eeb8>"
      ]
     },
     "execution_count": 9,
     "metadata": {},
     "output_type": "execute_result"
    }
   ],
   "source": [
    "# A simple plot for the winners.\n",
    "winners_df.plot(kind = 'bar', title = 'Number of matches won in IPL', label = 'Number of wins' )"
   ]
  },
  {
   "cell_type": "markdown",
   "metadata": {
    "_uuid": "c6c39520f7098a0b88a7b94775d0932d287c32b7"
   },
   "source": [
    "**Let's do some analysis on relation between winning the toss and the match. Let's find total number of times/matches where a team won the toss and also won the match. Also, we will find the opposite as well. Number of times team won the toss and lost the match.**"
   ]
  },
  {
   "cell_type": "code",
   "execution_count": 10,
   "metadata": {
    "_uuid": "de54cd5b08cc299c1aab5064506cc1b7bfc214ab"
   },
   "outputs": [],
   "source": [
    "# case where team won the toss and also won the match\n",
    "winning_toss_winning_match = df[(df['toss_winner'] == df['winner'])]"
   ]
  },
  {
   "cell_type": "code",
   "execution_count": 11,
   "metadata": {
    "_uuid": "0056a73645ffd01f9c64178f82e1dd2551519e02"
   },
   "outputs": [],
   "source": [
    "# cases where team won the toss but lost the match\n",
    "winning_toss_losing_match = df[(df['toss_winner'] != df['winner'])]"
   ]
  },
  {
   "cell_type": "code",
   "execution_count": 12,
   "metadata": {
    "_uuid": "69d5f6eaf1322c8451617c719b4a0299a6d96bc0"
   },
   "outputs": [],
   "source": [
    "new_df = pd.DataFrame({\"Team won the toss\":[ winning_toss_winning_match.shape[0],winning_toss_losing_match.shape[0]  ]}, index = ['Won match', 'Lost match']  )"
   ]
  },
  {
   "cell_type": "code",
   "execution_count": 13,
   "metadata": {
    "_uuid": "d885115d7491f4e7d5c6a8098e3a4c74d31b52d5"
   },
   "outputs": [
    {
     "data": {
      "text/plain": [
       "<matplotlib.axes._subplots.AxesSubplot at 0x15c32c1c160>"
      ]
     },
     "execution_count": 13,
     "metadata": {},
     "output_type": "execute_result"
    },
    {
     "data": {
      "image/png": "[encoded data removed]",
      "text/plain": [
       "<Figure size 432x288 with 1 Axes>"
      ]
     },
     "metadata": {
      "needs_background": "light"
     },
     "output_type": "display_data"
    }
   ],
   "source": [
    "#Let's plot the above obervations\n",
    "new_df.plot( kind = 'bar' , legend = False , title = \"Number of time a team won the toss and the match result of that match\")"
   ]
  },
  {
   "cell_type": "markdown",
   "metadata": {
    "_uuid": "fedeba0eee39f7f3a2daa0074f6c91a6f96f3802"
   },
   "source": [
    "**From above analysis, we can say that there is no significant impact of toss on the match result.**\n",
    "\n",
    "**Now, there are discussion on team winning the toss and choosing to bat and bowl first. We will analyse which had more success with winning the toss and batting first and which team had more success when they choose to bowl first.**"
   ]
  },
  {
   "cell_type": "code",
   "execution_count": 14,
   "metadata": {
    "_uuid": "c05f23d1bbf2747d0f8ad36966b16543d5479609"
   },
   "outputs": [],
   "source": [
    "# Same as above, now we will check how many times team winning the toss and  batting first won and how many times team bowling first won\n",
    "# For this we have to check if the team won the toss and toss_decision is bat/field and winning team is toss_winner\n",
    "# NOTE : in this type of analysis we are considering that the team has won the toss and its their decision to select to bat or bowl\n",
    "team_batting_first_won = df.loc[(df['toss_winner'] == df['winner']) & (df['toss_decision'] == 'bat'), ['id', 'winner']]\n",
    "team_fielding_first_won = df.loc[(df['toss_winner'] == df['winner']) & (df['toss_decision'] == 'field'),  ['id', 'winner']]"
   ]
  },
  {
   "cell_type": "code",
   "execution_count": 15,
   "metadata": {
    "_uuid": "77309114b2fec2dd2569ae57bf0d1bccd63d9b63"
   },
   "outputs": [],
   "source": [
    "team_fielding_first_won_df= team_fielding_first_won['winner'].value_counts()\n",
    "team_batting_first_won_df = team_batting_first_won['winner'].value_counts()"
   ]
  },
  {
   "cell_type": "code",
   "execution_count": 16,
   "metadata": {
    "_uuid": "2f276027df38069b8103cff9ebfd43ea37477a40"
   },
   "outputs": [
    {
     "data": {
      "text/plain": [
       "<matplotlib.axes._subplots.AxesSubplot at 0x15c32d38a20>"
      ]
     },
     "execution_count": 16,
     "metadata": {},
     "output_type": "execute_result"
    },
    {
     "data": {
      "image/png": "[encoded data removed]",
      "text/plain": [
       "<Figure size 432x288 with 1 Axes>"
      ]
     },
     "metadata": {
      "needs_background": "light"
     },
     "output_type": "display_data"
    }
   ],
   "source": [
    "team_batting_first_won_df.plot(kind = 'bar', title = 'Team winning toss, batting first and winning the match.')"
   ]
  },
  {
   "cell_type": "code",
   "execution_count": 17,
   "metadata": {
    "_uuid": "ebb204ca13391345f4581566897e3f43dd13203e"
   },
   "outputs": [
    {
     "data": {
      "text/plain": [
       "<matplotlib.axes._subplots.AxesSubplot at 0x15c32f3b9e8>"
      ]
     },
     "execution_count": 17,
     "metadata": {},
     "output_type": "execute_result"
    },
    {
     "data": {
      "image/png": "[encoded data removed]",
      "text/plain": [
       "<Figure size 432x288 with 1 Axes>"
      ]
     },
     "metadata": {
      "needs_background": "light"
     },
     "output_type": "display_data"
    }
   ],
   "source": [
    "team_fielding_first_won_df.plot(kind = 'bar', title = 'Team winning toss, fielding first won the match. ')"
   ]
  },
  {
   "cell_type": "markdown",
   "metadata": {
    "_uuid": "e8e4f3a8c77bb753a9e1db59fedfe97f513f41b6"
   },
   "source": [
    "**Let's do another analysis**"
   ]
  },
  {
   "cell_type": "code",
   "execution_count": 18,
   "metadata": {
    "_uuid": "0140e9953971d85610c4bd3eed017976cca1ede8"
   },
   "outputs": [
    {
     "data": {
      "text/plain": [
       "Mumbai            94\n",
       "Kolkata           70\n",
       "Delhi             67\n",
       "Bangalore         66\n",
       "Hyderabad         56\n",
       "Chennai           49\n",
       "Chandigarh        46\n",
       "Jaipur            40\n",
       "Pune              38\n",
       "Durban            15\n",
       "Ahmedabad         12\n",
       "Centurion         12\n",
       "Visakhapatnam     11\n",
       "Rajkot            10\n",
       "Dharamsala         9\n",
       "Indore             9\n",
       "Johannesburg       8\n",
       "Bengaluru          7\n",
       "Cuttack            7\n",
       "Port Elizabeth     7\n",
       "Ranchi             7\n",
       "Cape Town          7\n",
       "Abu Dhabi          7\n",
       "Raipur             6\n",
       "Sharjah            6\n",
       "Kochi              5\n",
       "Kanpur             4\n",
       "East London        3\n",
       "Kimberley          3\n",
       "Mohali             3\n",
       "Nagpur             3\n",
       "Bloemfontein       2\n",
       "Name: city, dtype: int64"
      ]
     },
     "execution_count": 18,
     "metadata": {},
     "output_type": "execute_result"
    }
   ],
   "source": [
    "df['city'].value_counts()"
   ]
  },
  {
   "cell_type": "markdown",
   "metadata": {
    "_uuid": "0c752281a53fc55c4c76aeab7d0f37efe84f36d4"
   },
   "source": [
    "**If you see above data, we have Bangalore and Bengaluru which refers to the same city.So we will replace \"Banglaore\" which is the old name of the city \"Bengaluru\".**"
   ]
  },
  {
   "cell_type": "code",
   "execution_count": 19,
   "metadata": {
    "_uuid": "4457bc8da5aa8013257df978f732d46020cbf078"
   },
   "outputs": [],
   "source": [
    "#Two ways to do the same\n",
    "df.loc[df['city'] == 'Bangalore', 'city'] = 'Bengaluru'\n",
    "#Another way \n",
    "#Changing city name from Bangalore to Bengaluru\n",
    "df['city'] = df['city'].str.replace('Bangalore','Bengaluru')"
   ]
  },
  {
   "cell_type": "markdown",
   "metadata": {
    "_uuid": "e62a7bb2cfac9d496e906f4694758a3e85b355ff"
   },
   "source": [
    "**Let's analyse how \"Duckworth–Lewis method\" affects result of match based on team batting first or bowling first.**"
   ]
  },
  {
   "cell_type": "code",
   "execution_count": 20,
   "metadata": {
    "_uuid": "b365b96595dd61d6d627297e64a7e91de7e94dda"
   },
   "outputs": [],
   "source": [
    "#Creating a dataframe, which holds the records where the match result is decided by \"Duckworth-Lewis method\".\n",
    "new_df = df.loc[ df['dl_applied'] != 0 ,['id','team1','team2','toss_winner','toss_decision','dl_applied','winner']]"
   ]
  },
  {
   "cell_type": "code",
   "execution_count": 21,
   "metadata": {
    "_uuid": "953c182f2210a300e927f58cea6c9fb1f48b7192"
   },
   "outputs": [],
   "source": [
    "# Now we have to create a new column to decide which team has batted first for each match. I am gonna create a function for it and apply \n",
    "# that function to the dataframe ***\n",
    "\n",
    "def set_batting_first(team1, team2, toss_winner, toss_decision):\n",
    "    if toss_decision == 'bat':\n",
    "        return toss_winner\n",
    "    else:\n",
    "        if team1 == toss_winner:\n",
    "            return team2\n",
    "        else:\n",
    "            return team1  "
   ]
  },
  {
   "cell_type": "code",
   "execution_count": 22,
   "metadata": {
    "_uuid": "135aea5428398084a595aac3273a67c23c9a2c90"
   },
   "outputs": [
    {
     "name": "stderr",
     "output_type": "stream",
     "text": [
      "C:\\ProgramData\\Anaconda3\\lib\\site-packages\\pandas\\core\\indexing.py:1472: FutureWarning: \n",
      "Passing list-likes to .loc or [] with any missing label will raise\n",
      "KeyError in the future, you can use .reindex() as an alternative.\n",
      "\n",
      "See the documentation here:\n",
      "https://pandas.pydata.org/pandas-docs/stable/indexing.html#deprecate-loc-reindex-listlike\n",
      "  return self._getitem_tuple(key)\n"
     ]
    }
   ],
   "source": [
    "for items in new_df.loc[: , ['team1','team2','toss_winner','toss_decision','bat_first']].itertuples():\n",
    "    new_df.loc[items[0] , 'bat_first'] = set_batting_first(items[1], items[2], items[3], items[4])"
   ]
  },
  {
   "cell_type": "code",
   "execution_count": 23,
   "metadata": {
    "_uuid": "eb5a35d76f7a96d53ed582d488c22cc5a3a0f179"
   },
   "outputs": [],
   "source": [
    "#Now we are gonna create 1 more column named \"is_bat_first_win\" which will have 1 if the team batting first won and 0 if team batting 1 lost.\n",
    "new_df['is_bat_first_win'] = 0\n",
    "new_df.loc[new_df['bat_first'] == new_df['winner'],'is_bat_first_win'] = 1"
   ]
  },
  {
   "cell_type": "code",
   "execution_count": 24,
   "metadata": {
    "_uuid": "4172b5f3451335248113c66589ed58fb034969b4"
   },
   "outputs": [],
   "source": [
    "#Lets create a new dataframe with just two results as below.\n",
    "dl_bat_first_win = pd.DataFrame(new_df['is_bat_first_win'].value_counts())\n",
    "dl_bat_first_win.index = ['field_first_wins','bat_first_wins']"
   ]
  },
  {
   "cell_type": "markdown",
   "metadata": {
    "_uuid": "3a586dd1d0ab8b4e742a16c9fcf963f9fe367b11"
   },
   "source": [
    "**Below figure shows the number of times \"Duckworth–Lewis method\" is applied and the team fielding first(or team batting second) won the match. This provided a direct connection between how \"Duckworth–Lewis method\" favours team batting second, though the topic is still argued the most.**"
   ]
  },
  {
   "cell_type": "code",
   "execution_count": 25,
   "metadata": {
    "_uuid": "916c427695fd3012cd49d3d1295ba0a8a4cc5f7f"
   },
   "outputs": [
    {
     "data": {
      "text/plain": [
       "<matplotlib.axes._subplots.AxesSubplot at 0x15c32fbda58>"
      ]
     },
     "execution_count": 25,
     "metadata": {},
     "output_type": "execute_result"
    },
    {
     "data": {
      "image/png": "[encoded data removed]",
      "text/plain": [
       "<Figure size 432x288 with 1 Axes>"
      ]
     },
     "metadata": {
      "needs_background": "light"
     },
     "output_type": "display_data"
    }
   ],
   "source": [
    "dl_bat_first_win.plot(kind = 'bar')"
   ]
  },
  {
   "cell_type": "markdown",
   "metadata": {
    "_uuid": "a73cc6fcb82d375f367d9afe1bfbe89b515c63ca"
   },
   "source": [
    "**A win margin of more than 100 runs or more than 8 wickets in T20 is considered huge. Let's do an analysis on how many occassion, a team has lost the match with more than 100 run or more than 8 tickets. NOTE : we are gonna ignore the matches in which \"Duckworth–Lewis method\" is applied.**"
   ]
  },
  {
   "cell_type": "code",
   "execution_count": 26,
   "metadata": {
    "_uuid": "2b7ad599a4dd276d438c1d685111fe43f698010f"
   },
   "outputs": [],
   "source": [
    "# New dataframe where DL method is not applied and win margin is 100 or more runs or more than 8 wickets.\n",
    "new_df = df.loc[ (df['dl_applied'] == 0) & ((df['win_by_runs'] > 99) | (df['win_by_wickets'] > 8)) , ['id','team1','team2','winner','win_by_runs','win_by_wickets']]"
   ]
  },
  {
   "cell_type": "code",
   "execution_count": 27,
   "metadata": {
    "_uuid": "fe89575468dd899ab4283501b9c831ac337f9070"
   },
   "outputs": [],
   "source": [
    "#creating a new column to track the losing team \n",
    "new_df['losing_team'] = np.nan"
   ]
  },
  {
   "cell_type": "code",
   "execution_count": 28,
   "metadata": {
    "_uuid": "76569a1faee9fb8a8cc382aa458454e11b78103d"
   },
   "outputs": [],
   "source": [
    "# I will create a method to fetch the losing team from the dataframe\n",
    "def check_losing_team(row):\n",
    "    if row['team1'] == row['winner']:\n",
    "        row['losing_team'] = row['team2']\n",
    "        return row['team2']\n",
    "    else:\n",
    "        row['losing_team'] = row['team1']\n",
    "        return row['team1']"
   ]
  },
  {
   "cell_type": "code",
   "execution_count": 29,
   "metadata": {
    "_uuid": "3bf85cda293f77bb48ce4660aa4b891904774d3f"
   },
   "outputs": [],
   "source": [
    "new_df['losing_team'] = new_df.apply(check_losing_team, axis = 1)"
   ]
  },
  {
   "cell_type": "code",
   "execution_count": 30,
   "metadata": {
    "_uuid": "e5cd2d1ce16cf71dbbd43510399e8cfac6a764bc"
   },
   "outputs": [
    {
     "data": {
      "text/plain": [
       "<matplotlib.axes._subplots.AxesSubplot at 0x15c33097ac8>"
      ]
     },
     "execution_count": 30,
     "metadata": {},
     "output_type": "execute_result"
    },
    {
     "data": {
      "image/png": "[encoded data removed]",
      "text/plain": [
       "<Figure size 432x288 with 1 Axes>"
      ]
     },
     "metadata": {
      "needs_background": "light"
     },
     "output_type": "display_data"
    }
   ],
   "source": [
    "new_df.losing_team.value_counts().plot(kind = 'bar', title = 'Number of times team losing with big margin')"
   ]
  },
  {
   "cell_type": "markdown",
   "metadata": {
    "_uuid": "9074e35838ae73f73dcdce770b0569ec69d9d237"
   },
   "source": [
    "**Let's do analysis on Number of times a player got the Man of the Match till 2017 edition of IPL.**"
   ]
  },
  {
   "cell_type": "code",
   "execution_count": 31,
   "metadata": {
    "_uuid": "607272f66227ab67c78741fd807d0445e223c36f"
   },
   "outputs": [],
   "source": [
    "# number of times the playes got Man of the match\n",
    "mom_players = df.player_of_match.value_counts()"
   ]
  },
  {
   "cell_type": "code",
   "execution_count": 32,
   "metadata": {
    "_uuid": "906de4d8159487cbc03fc5d436f4d163fcfa9539"
   },
   "outputs": [
    {
     "data": {
      "text/plain": [
       "<matplotlib.axes._subplots.AxesSubplot at 0x15c33134c88>"
      ]
     },
     "execution_count": 32,
     "metadata": {},
     "output_type": "execute_result"
    },
    {
     "data": {
      "image/png": "[encoded data removed]",
      "text/plain": [
       "<Figure size 432x288 with 1 Axes>"
      ]
     },
     "metadata": {
      "needs_background": "light"
     },
     "output_type": "display_data"
    }
   ],
   "source": [
    "# we want to analyse only those players who got the award atleast 10 times\n",
    "mom_players[mom_players >= 10 ].plot(kind = 'bar', title = 'Number of times a player got Man of the Match')"
   ]
  }
 ],
 "metadata": {
  "kernelspec": {
   "display_name": "Python 3",
   "language": "python",
   "name": "python3"
  },
  "language_info": {
   "codemirror_mode": {
    "name": "ipython",
    "version": 3
   },
   "file_extension": ".py",
   "mimetype": "text/x-python",
   "name": "python",
   "nbconvert_exporter": "python",
   "pygments_lexer": "ipython3",
   "version": "3.7.0"
  }
 },
 "nbformat": 4,
 "nbformat_minor": 1
}
